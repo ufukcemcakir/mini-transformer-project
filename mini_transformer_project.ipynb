{
  "nbformat": 4,
  "nbformat_minor": 0,
  "metadata": {
    "colab": {
      "provenance": [],
      "gpuType": "T4"
    },
    "kernelspec": {
      "name": "python3",
      "display_name": "Python 3"
    },
    "language_info": {
      "name": "python"
    },
    "accelerator": "GPU"
  },
  "cells": [
    {
      "cell_type": "code",
      "execution_count": 1,
      "metadata": {
        "colab": {
          "base_uri": "https://localhost:8080/"
        },
        "id": "U8vdkPwZjp8q",
        "outputId": "594bff12-7a76-4601-a2bb-b931b6228e06"
      },
      "outputs": [
        {
          "output_type": "stream",
          "name": "stdout",
          "text": [
            "--2025-06-11 19:42:45--  https://raw.githubusercontent.com/karpathy/char-rnn/master/data/tinyshakespeare/input.txt\n",
            "Resolving raw.githubusercontent.com (raw.githubusercontent.com)... 185.199.108.133, 185.199.109.133, 185.199.110.133, ...\n",
            "Connecting to raw.githubusercontent.com (raw.githubusercontent.com)|185.199.108.133|:443... connected.\n",
            "HTTP request sent, awaiting response... 200 OK\n",
            "Length: 1115394 (1.1M) [text/plain]\n",
            "Saving to: ‘input.txt’\n",
            "\n",
            "input.txt           100%[===================>]   1.06M  --.-KB/s    in 0.04s   \n",
            "\n",
            "2025-06-11 19:42:45 (24.6 MB/s) - ‘input.txt’ saved [1115394/1115394]\n",
            "\n"
          ]
        }
      ],
      "source": [
        "!wget https://raw.githubusercontent.com/karpathy/char-rnn/master/data/tinyshakespeare/input.txt"
      ]
    },
    {
      "cell_type": "code",
      "source": [
        "import torch\n",
        "import torch.nn as nn\n",
        "from torch.nn import functional as F\n",
        "import matplotlib.pyplot as plt\n",
        "\n",
        "device = 'cuda' if torch.cuda.is_available() else 'cpu'\n",
        "print(f\"Using device: {device}\")"
      ],
      "metadata": {
        "colab": {
          "base_uri": "https://localhost:8080/"
        },
        "id": "yJYUUd0RV1bU",
        "outputId": "45a4d2ca-4089-40b7-a2d1-b823aba96087"
      },
      "execution_count": 12,
      "outputs": [
        {
          "output_type": "stream",
          "name": "stdout",
          "text": [
            "Using device: cuda\n"
          ]
        }
      ]
    },
    {
      "cell_type": "code",
      "source": [
        "# Read the text file\n",
        "with open(\"input.txt\", \"r\", encoding=\"utf-8\") as f:\n",
        "    text = f.read()\n",
        "\n",
        "print(f\"Length of dataset in characters: {len(text)}\")\n",
        "print(text[:500])  # Preview the first 500 characters"
      ],
      "metadata": {
        "colab": {
          "base_uri": "https://localhost:8080/"
        },
        "id": "MFwdgCxdj5aL",
        "outputId": "05e6d006-27c7-449c-9e30-928b2263082c"
      },
      "execution_count": 3,
      "outputs": [
        {
          "output_type": "stream",
          "name": "stdout",
          "text": [
            "Length of dataset in characters: 1115394\n",
            "First Citizen:\n",
            "Before we proceed any further, hear me speak.\n",
            "\n",
            "All:\n",
            "Speak, speak.\n",
            "\n",
            "First Citizen:\n",
            "You are all resolved rather to die than to famish?\n",
            "\n",
            "All:\n",
            "Resolved. resolved.\n",
            "\n",
            "First Citizen:\n",
            "First, you know Caius Marcius is chief enemy to the people.\n",
            "\n",
            "All:\n",
            "We know't, we know't.\n",
            "\n",
            "First Citizen:\n",
            "Let us kill him, and we'll have corn at our own price.\n",
            "Is't a verdict?\n",
            "\n",
            "All:\n",
            "No more talking on't; let it be done: away, away!\n",
            "\n",
            "Second Citizen:\n",
            "One word, good citizens.\n",
            "\n",
            "First Citizen:\n",
            "We are accounted poor\n"
          ]
        }
      ]
    },
    {
      "cell_type": "code",
      "source": [
        "unique_chars = sorted(set(text))\n",
        "vocab_size = len(unique_chars)\n",
        "indexes = list(range(len(unique_chars)))\n",
        "char_to_int = dict(zip(unique_chars, indexes))\n",
        "int_to_char = dict(zip(indexes, unique_chars))\n",
        "\n",
        "def encode(x):\n",
        "    return [char_to_int[c] for c in x]\n",
        "\n",
        "def decode(x):\n",
        "    return ''.join([int_to_char[i] for i in x])\n",
        "\n",
        "data = torch.tensor(encode(text), dtype=torch.long)\n",
        "\n",
        "n = int(0.9 * len(data))\n",
        "train_data = data[:n]\n",
        "val_data = data[n:]"
      ],
      "metadata": {
        "id": "wwO5XhvYj7Vz"
      },
      "execution_count": 4,
      "outputs": []
    },
    {
      "cell_type": "code",
      "source": [
        "block_size = 128\n",
        "batch_size = 32\n",
        "n_embd = 384\n",
        "n_head = 6\n",
        "n_layer = 6\n",
        "dropout = 0.2\n",
        "learning_rate = 3e-4\n",
        "max_iters = 5000\n",
        "eval_interval = 500\n",
        "eval_iters = 200"
      ],
      "metadata": {
        "id": "Y7KBzuiaWkci"
      },
      "execution_count": 5,
      "outputs": []
    },
    {
      "cell_type": "code",
      "source": [
        "def get_batch(split):\n",
        "    data_split = train_data if split == 'train' else val_data\n",
        "    ix = torch.randint(len(data_split) - block_size, (batch_size,))\n",
        "    x = torch.stack([data_split[i:i+block_size] for i in ix])\n",
        "    y = torch.stack([data_split[i+1:i+block_size+1] for i in ix])\n",
        "    return x.to(device), y.to(device)\n",
        "\n",
        "@torch.no_grad()\n",
        "def estimate_loss():\n",
        "    out = {}\n",
        "    model.eval()\n",
        "    for split in ['train', 'val']:\n",
        "        losses = torch.zeros(eval_iters)\n",
        "        for k in range(eval_iters):\n",
        "            X, Y = get_batch(split)\n",
        "            logits, loss = model(X, Y)\n",
        "            losses[k] = loss.item()\n",
        "        out[split] = losses.mean()\n",
        "    model.train()\n",
        "    return out"
      ],
      "metadata": {
        "id": "L1pyEsR4SUwd"
      },
      "execution_count": 6,
      "outputs": []
    },
    {
      "cell_type": "code",
      "source": [
        "class Head(nn.Module):\n",
        "    def __init__(self, head_size):\n",
        "        super().__init__()\n",
        "        self.key = nn.Linear(n_embd, head_size, bias=False)\n",
        "        self.query = nn.Linear(n_embd, head_size, bias=False)\n",
        "        self.value = nn.Linear(n_embd, head_size, bias=False)\n",
        "        self.register_buffer('tril', torch.tril(torch.ones(block_size, block_size)))\n",
        "        self.dropout = nn.Dropout(dropout)\n",
        "\n",
        "    def forward(self, x):\n",
        "        B, T, C = x.shape\n",
        "        k = self.key(x)\n",
        "        q = self.query(x)\n",
        "\n",
        "        wei = q @ k.transpose(-2,-1) * C**-0.5\n",
        "        wei = wei.masked_fill(self.tril[:T, :T] == 0, float('-inf'))\n",
        "        wei = F.softmax(wei, dim=-1)\n",
        "        wei = self.dropout(wei)\n",
        "\n",
        "        v = self.value(x)\n",
        "        out = wei @ v\n",
        "        return out\n",
        "\n",
        "class MultiHeadAttention(nn.Module):\n",
        "\n",
        "    def __init__(self, num_heads, head_size):\n",
        "        super().__init__()\n",
        "        self.heads = nn.ModuleList([Head(head_size) for _ in range(num_heads)])\n",
        "        self.proj = nn.Linear(n_embd, n_embd)\n",
        "        self.dropout = nn.Dropout(dropout)\n",
        "\n",
        "    def forward(self, x):\n",
        "        out = torch.cat([h(x) for h in self.heads], dim=-1)\n",
        "        out = self.dropout(self.proj(out))\n",
        "        return out\n",
        "\n",
        "class FeedForward(nn.Module):\n",
        "\n",
        "    def __init__(self, n_embd):\n",
        "        super().__init__()\n",
        "        self.net = nn.Sequential(\n",
        "            nn.Linear(n_embd, 4 * n_embd),\n",
        "            nn.ReLU(),\n",
        "            nn.Linear(4 * n_embd, n_embd),\n",
        "            nn.Dropout(dropout),\n",
        "        )\n",
        "\n",
        "    def forward(self, x):\n",
        "        return self.net(x)\n",
        "\n",
        "class Block(nn.Module):\n",
        "\n",
        "    def __init__(self, n_embd, n_head):\n",
        "        super().__init__()\n",
        "        head_size = n_embd // n_head\n",
        "        self.sa = MultiHeadAttention(n_head, head_size)\n",
        "        self.ffwd = FeedForward(n_embd)\n",
        "        self.ln1 = nn.LayerNorm(n_embd)\n",
        "        self.ln2 = nn.LayerNorm(n_embd)\n",
        "\n",
        "    def forward(self, x):\n",
        "        x = x + self.sa(self.ln1(x))\n",
        "        x = x + self.ffwd(self.ln2(x))\n",
        "        return x\n",
        "\n",
        "class GPTLanguageModel(nn.Module):\n",
        "\n",
        "    def __init__(self):\n",
        "        super().__init__()\n",
        "        self.token_embedding_table = nn.Embedding(vocab_size, n_embd)\n",
        "        self.position_embedding_table = nn.Embedding(block_size, n_embd)\n",
        "        self.blocks = nn.Sequential(*[Block(n_embd, n_head) for _ in range(n_layer)])\n",
        "        self.ln_f = nn.LayerNorm(n_embd)\n",
        "        self.lm_head = nn.Linear(n_embd, vocab_size)\n",
        "\n",
        "    def forward(self, idx, targets=None):\n",
        "        B, T = idx.shape\n",
        "\n",
        "        tok_emb = self.token_embedding_table(idx)\n",
        "        pos_emb = self.position_embedding_table(torch.arange(T, device=device))\n",
        "        x = tok_emb + pos_emb\n",
        "        x = self.blocks(x)\n",
        "        x = self.ln_f(x)\n",
        "        logits = self.lm_head(x)\n",
        "\n",
        "        if targets is None:\n",
        "            loss = None\n",
        "        else:\n",
        "            B, T, C = logits.shape\n",
        "            logits = logits.view(B*T, C)\n",
        "            targets = targets.view(B*T)\n",
        "            loss = F.cross_entropy(logits, targets)\n",
        "\n",
        "        return logits, loss\n",
        "\n",
        "    def generate(self, idx, max_new_tokens):\n",
        "        for _ in range(max_new_tokens):\n",
        "            idx_cond = idx[:, -block_size:]\n",
        "            logits, loss = self(idx_cond)\n",
        "            logits = logits[:, -1, :]\n",
        "            probs = F.softmax(logits, dim=-1)\n",
        "            idx_next = torch.multinomial(probs, num_samples=1)\n",
        "            idx = torch.cat((idx, idx_next), dim=1)\n",
        "        return idx"
      ],
      "metadata": {
        "id": "OvpTnVnNXpEO"
      },
      "execution_count": 7,
      "outputs": []
    },
    {
      "cell_type": "code",
      "source": [
        "model = GPTLanguageModel()\n",
        "model = model.to(device)\n",
        "print(f\"Model has {sum(p.numel() for p in model.parameters())/1e6:.2f}M parameters\")\n",
        "\n",
        "optimizer = torch.optim.AdamW(model.parameters(), lr=learning_rate)"
      ],
      "metadata": {
        "colab": {
          "base_uri": "https://localhost:8080/"
        },
        "id": "gohFt0hKXvcK",
        "outputId": "d2943b06-0248-4c7b-f9e2-f57d25e91c3d"
      },
      "execution_count": 8,
      "outputs": [
        {
          "output_type": "stream",
          "name": "stdout",
          "text": [
            "Model has 10.74M parameters\n"
          ]
        }
      ]
    },
    {
      "cell_type": "code",
      "source": [
        "# Initialize lists to store losses and iteration numbers\n",
        "train_losses = []\n",
        "val_losses = []\n",
        "eval_steps = []\n",
        "\n",
        "# Training loop\n",
        "for iter in range(max_iters):\n",
        "    # Every once in a while evaluate the loss on train and val sets\n",
        "    if iter % eval_interval == 0 or iter == max_iters - 1:\n",
        "        losses = estimate_loss()\n",
        "        print(f\"step {iter}: train loss {losses['train']:.4f}, val loss {losses['val']:.4f}\")\n",
        "\n",
        "        # Store the losses and iteration number\n",
        "        train_losses.append(losses['train'])\n",
        "        val_losses.append(losses['val'])\n",
        "        eval_steps.append(iter)\n",
        "\n",
        "    # Sample a batch of data\n",
        "    xb, yb = get_batch('train')\n",
        "\n",
        "    # Evaluate the loss\n",
        "    logits, loss = model(xb, yb)\n",
        "    optimizer.zero_grad(set_to_none=True)\n",
        "    loss.backward()\n",
        "    optimizer.step()\n",
        "\n",
        "    # Show progress every 50 steps\n",
        "    if iter % 50 == 0:\n",
        "        print(f\"step {iter}: loss {loss.item():.4f}\")"
      ],
      "metadata": {
        "colab": {
          "base_uri": "https://localhost:8080/"
        },
        "id": "ofuQOsQcZ3Al",
        "outputId": "518a25b4-77f5-4276-92d2-1f6c5e5b38cd"
      },
      "execution_count": 11,
      "outputs": [
        {
          "output_type": "stream",
          "name": "stdout",
          "text": [
            "step 0: train loss 1.8843, val loss 1.9778\n",
            "step 0: loss 1.9720\n",
            "step 50: loss 1.8598\n",
            "step 100: loss 1.9214\n",
            "step 150: loss 1.8705\n",
            "step 200: loss 1.7567\n",
            "step 250: loss 1.7984\n",
            "step 300: loss 1.8096\n",
            "step 350: loss 1.7718\n",
            "step 400: loss 1.7374\n",
            "step 450: loss 1.6978\n",
            "step 500: train loss 1.6328, val loss 1.7960\n",
            "step 500: loss 1.6737\n",
            "step 550: loss 1.7087\n",
            "step 600: loss 1.6324\n",
            "step 650: loss 1.6616\n",
            "step 700: loss 1.6175\n",
            "step 750: loss 1.6742\n",
            "step 800: loss 1.5726\n",
            "step 850: loss 1.6033\n",
            "step 900: loss 1.5925\n",
            "step 950: loss 1.5946\n",
            "step 1000: train loss 1.5059, val loss 1.6981\n",
            "step 1000: loss 1.5690\n",
            "step 1050: loss 1.5810\n",
            "step 1100: loss 1.5830\n",
            "step 1150: loss 1.5897\n",
            "step 1200: loss 1.4968\n",
            "step 1250: loss 1.5189\n",
            "step 1300: loss 1.4855\n",
            "step 1350: loss 1.5288\n",
            "step 1400: loss 1.5454\n",
            "step 1450: loss 1.5022\n",
            "step 1500: train loss 1.4347, val loss 1.6309\n",
            "step 1500: loss 1.4872\n",
            "step 1550: loss 1.5010\n",
            "step 1600: loss 1.4765\n",
            "step 1650: loss 1.5460\n",
            "step 1700: loss 1.4807\n",
            "step 1750: loss 1.4929\n",
            "step 1800: loss 1.4704\n",
            "step 1850: loss 1.4996\n",
            "step 1900: loss 1.4649\n",
            "step 1950: loss 1.5119\n",
            "step 2000: train loss 1.3829, val loss 1.5952\n",
            "step 2000: loss 1.4467\n",
            "step 2050: loss 1.4747\n",
            "step 2100: loss 1.5182\n",
            "step 2150: loss 1.4177\n",
            "step 2200: loss 1.4322\n",
            "step 2250: loss 1.3924\n",
            "step 2300: loss 1.4228\n",
            "step 2350: loss 1.4228\n",
            "step 2400: loss 1.4175\n",
            "step 2450: loss 1.4686\n",
            "step 2500: train loss 1.3392, val loss 1.5575\n",
            "step 2500: loss 1.4382\n",
            "step 2550: loss 1.4241\n",
            "step 2600: loss 1.4032\n",
            "step 2650: loss 1.3674\n",
            "step 2700: loss 1.4642\n",
            "step 2750: loss 1.3329\n",
            "step 2800: loss 1.3636\n",
            "step 2850: loss 1.3818\n",
            "step 2900: loss 1.4079\n",
            "step 2950: loss 1.3987\n",
            "step 3000: train loss 1.3121, val loss 1.5508\n",
            "step 3000: loss 1.4352\n",
            "step 3050: loss 1.3967\n",
            "step 3100: loss 1.4297\n",
            "step 3150: loss 1.3382\n",
            "step 3200: loss 1.3685\n",
            "step 3250: loss 1.3610\n",
            "step 3300: loss 1.3615\n",
            "step 3350: loss 1.3167\n",
            "step 3400: loss 1.3590\n",
            "step 3450: loss 1.3401\n",
            "step 3500: train loss 1.2870, val loss 1.5344\n",
            "step 3500: loss 1.3576\n",
            "step 3550: loss 1.3522\n",
            "step 3600: loss 1.3653\n",
            "step 3650: loss 1.3223\n",
            "step 3700: loss 1.3526\n",
            "step 3750: loss 1.3759\n",
            "step 3800: loss 1.3382\n",
            "step 3850: loss 1.2602\n",
            "step 3900: loss 1.3040\n",
            "step 3950: loss 1.3279\n",
            "step 4000: train loss 1.2561, val loss 1.5124\n",
            "step 4000: loss 1.2991\n",
            "step 4050: loss 1.2845\n",
            "step 4100: loss 1.2936\n",
            "step 4150: loss 1.3290\n",
            "step 4200: loss 1.3227\n",
            "step 4250: loss 1.3054\n",
            "step 4300: loss 1.2880\n",
            "step 4350: loss 1.3696\n",
            "step 4400: loss 1.3827\n",
            "step 4450: loss 1.3292\n",
            "step 4500: train loss 1.2343, val loss 1.4950\n",
            "step 4500: loss 1.2975\n",
            "step 4550: loss 1.2801\n",
            "step 4600: loss 1.3136\n",
            "step 4650: loss 1.3219\n",
            "step 4700: loss 1.3247\n",
            "step 4750: loss 1.2651\n",
            "step 4800: loss 1.2556\n",
            "step 4850: loss 1.3196\n",
            "step 4900: loss 1.2666\n",
            "step 4950: loss 1.3063\n",
            "step 4999: train loss 1.2198, val loss 1.5012\n"
          ]
        }
      ]
    },
    {
      "cell_type": "code",
      "source": [
        "# Plot the losses\n",
        "plt.figure(figsize=(10, 6))\n",
        "plt.plot(eval_steps, train_losses, label='Training Loss', color='blue', marker='o', markersize=3)\n",
        "plt.plot(eval_steps, val_losses, label='Validation Loss', color='red', marker='s', markersize=3)\n",
        "plt.xlabel('Training Steps')\n",
        "plt.ylabel('Loss')\n",
        "plt.title('Training and Validation Loss Over Time')\n",
        "plt.legend()\n",
        "plt.grid(True, alpha=0.3)\n",
        "plt.show()"
      ],
      "metadata": {
        "colab": {
          "base_uri": "https://localhost:8080/",
          "height": 564
        },
        "id": "561FQ13eiGku",
        "outputId": "d0d8679b-bd53-46f1-807b-ab0194f30ff3"
      },
      "execution_count": 13,
      "outputs": [
        {
          "output_type": "display_data",
          "data": {
            "text/plain": [
              "<Figure size 1000x600 with 1 Axes>"
            ],
            "image/png": "[encoded data removed]"
          },
          "metadata": {}
        }
      ]
    },
    {
      "cell_type": "code",
      "source": [
        "context = torch.zeros((1, 1), dtype=torch.long, device=device)\n",
        "generated_text = decode(model.generate(context, max_new_tokens=500)[0].tolist())\n",
        "print(generated_text)"
      ],
      "metadata": {
        "colab": {
          "base_uri": "https://localhost:8080/"
        },
        "id": "T7_HzCrkZ3jd",
        "outputId": "77ec70dc-f39b-43c1-e728-5f79e4c9803b"
      },
      "execution_count": 14,
      "outputs": [
        {
          "output_type": "stream",
          "name": "stdout",
          "text": [
            "\n",
            "The Kore honour.\n",
            "\n",
            "KING RICHARD III:\n",
            "Neither is another.\n",
            "\n",
            "QUEEN ELIZABETH:\n",
            "Here's sociatpy counts, boy a fellow is marriage,\n",
            "Make proaching in the friends, corrow right,\n",
            "Which trives this, it best, gallest, die,\n",
            "Wields look you that in Podribe,\n",
            "This constrant, and yet hath goft spell pastient\n",
            "Give glor to this restoren of a child;\n",
            "That old and a loss of thrivant blood,\n",
            "To let himmean our courses did with Romeon?\n",
            "\n",
            "LARD KENTIO:\n",
            "What, be it dicken and did store a love from Friar life,\n",
            "His pomiciance\n"
          ]
        }
      ]
    }
  ]
}